{
 "cells": [
  {
   "cell_type": "code",
   "execution_count": 1,
   "metadata": {
    "scrolled": true
   },
   "outputs": [],
   "source": [
    "import pandas as pd\n",
    "import numpy as np\n",
    "input_excel_file = \"/home/chirag/Desktop/snippet.xlsx\""
   ]
  },
  {
   "cell_type": "code",
   "execution_count": 2,
   "metadata": {},
   "outputs": [],
   "source": [
    "def agent_customer(input_excel_file):    \n",
    "    df = pd.read_excel(input_excel_file)\n",
    "    df.text= df.text.astype(str)\n",
    "    df['a_bin'] = 0\n",
    "    df['b_bin'] = 0\n",
    "    df.a_bin = df.speaker.apply(lambda x: 0 if x=='Agent' else 1)\n",
    "    df.b_bin = df.speaker.apply(lambda x: 0 if x=='Customer' else 1)\n",
    "    df['a_bin_cumsum'] = df.a_bin.cumsum()\n",
    "    df['b_bin_cumsum'] = df.b_bin.cumsum()\n",
    "    df = df.drop(['a_bin','b_bin'],axis=1)\n",
    "    df['a_bin'] = df.speaker.apply(lambda x: 1 if x=='Agent' else 0)\n",
    "    df['b_bin'] = df.speaker.apply(lambda x: 1 if x=='Customer' else 0)\n",
    "    df['a_con'] = df.a_bin_cumsum*df.a_bin \n",
    "    df['b_con'] = df.b_bin_cumsum*df.b_bin\n",
    "    df.drop(['a_bin_cumsum','b_bin_cumsum','a_bin','b_bin'],axis=1,inplace=True)\n",
    "    df['identifier'] = df.a_con + df.b_con\n",
    "    df['name_idnet'] = df.speaker+\"_\"+df.identifier.astype(str)\n",
    "    df.drop(['a_con','b_con','identifier'],axis=1,inplace=True)\n",
    "    df['nindex'] = df.index\n",
    "\n",
    "    def summing(df):\n",
    "        df = df.copy().reset_index(drop=True)\n",
    "        n_ind = df.nindex[0].astype(int)\n",
    "        if df.shape[0] == 1:\n",
    "            df['nindx'] = n_ind\n",
    "            return(df.reset_index(drop=True))\n",
    "        else:\n",
    "            df['text'] = df.text.astype(str) + \" \"\n",
    "            df['id'] = df.id.astype(str)+ \" \"\n",
    "            text = df.text.sum().strip()\n",
    "            name = df.name_idnet[0]\n",
    "            from_time = df.from_time[0]\n",
    "            to_time = df.to_time[df.shape[0]-1]\n",
    "            ids = df.id.sum().strip().replace(\" \",\",\")\n",
    "            data = {'nindx':[n_ind],'id':[ids],'speaker':[df.speaker[0]],'name_idnet':[df.name_idnet[0]],\n",
    "                    'text':[text],'from_time':[from_time],'to_time':[to_time]}\n",
    "            df1 = pd.DataFrame(data)        \n",
    "            return(df1.reset_index(drop=True))\n",
    "\n",
    "    df_result = df.groupby(['speaker','name_idnet'],as_index=False).apply(summing).drop('nindex',axis=1).sort_values('nindx').reset_index(drop=True)\n",
    "    df_result = df_result.drop(['name_idnet', 'nindx'], axis=1)\n",
    "    df_result = df_result[['id', 'speaker', 'text', 'from_time', 'to_time']]\n",
    "    return df_result"
   ]
  },
  {
   "cell_type": "code",
   "execution_count": 3,
   "metadata": {},
   "outputs": [
    {
     "name": "stderr",
     "output_type": "stream",
     "text": [
      "/home/chirag/venv/lib/python3.6/site-packages/pandas/core/groupby/groupby.py:924: FutureWarning: Sorting because non-concatenation axis is not aligned. A future version\n",
      "of pandas will change to not sort by default.\n",
      "\n",
      "To accept the future behavior, pass 'sort=False'.\n",
      "\n",
      "To retain the current behavior and silence the warning, pass 'sort=True'.\n",
      "\n",
      "  result = concat(values, axis=self.axis, keys=keys)\n"
     ]
    }
   ],
   "source": [
    "input_excel_file = \"/home/chirag/Desktop/snippet.xlsx\"\n",
    "df = agent_customer(input_excel_file)"
   ]
  },
  {
   "cell_type": "code",
   "execution_count": null,
   "metadata": {},
   "outputs": [],
   "source": []
  },
  {
   "cell_type": "code",
   "execution_count": null,
   "metadata": {},
   "outputs": [],
   "source": []
  }
 ],
 "metadata": {
  "kernelspec": {
   "display_name": "Python 3",
   "language": "python",
   "name": "python3"
  },
  "language_info": {
   "codemirror_mode": {
    "name": "ipython",
    "version": 3
   },
   "file_extension": ".py",
   "mimetype": "text/x-python",
   "name": "python",
   "nbconvert_exporter": "python",
   "pygments_lexer": "ipython3",
   "version": "3.6.8"
  }
 },
 "nbformat": 4,
 "nbformat_minor": 2
}
